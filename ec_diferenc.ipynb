{
  "nbformat": 4,
  "nbformat_minor": 0,
  "metadata": {
    "colab": {
      "name": "ec_diferenc.ipynb",
      "provenance": []
    },
    "kernelspec": {
      "name": "python3",
      "display_name": "Python 3"
    },
    "language_info": {
      "name": "python"
    }
  },
  "cells": [
    {
      "cell_type": "code",
      "metadata": {
        "id": "HeaVRjlfXUXE"
      },
      "source": [
        "from sympy import series, Symbol # Importar funcion para series y simbolos\n",
        "from sympy.functions import sin, cos, exp, tan, log #Importar funciones matemat.\n",
        "from sympy.plotting import plot #Graficar funciones matematicas\n",
        "import matplotlib.pyplot as plt #Graficar en general\n",
        "from sympy import pi\n",
        "\n",
        "import sympy as sym\n",
        "\n",
        "plt.rcParams[\"figure.figsize\"] = 13,10 # Largo y ancho de la gráfica\n",
        "plt.rcParams[\"lines.linewidth\"] = 2 # Ancho de las lineas \n",
        "\n",
        "x = Symbol(\"x\")\n",
        "alpha = Symbol(\"alpha\")\n",
        "beta = Symbol(\"beta\")\n",
        "f = sym.Function(\"f\")(x)"
      ],
      "execution_count": null,
      "outputs": []
    },
    {
      "cell_type": "code",
      "metadata": {
        "colab": {
          "base_uri": "https://localhost:8080/",
          "height": 54
        },
        "id": "VaZusdI2Xp9f",
        "outputId": "0227fb78-a1b4-4266-aa1e-5ed8e2a5363b"
      },
      "source": [
        "f.diff(x, 2)"
      ],
      "execution_count": null,
      "outputs": [
        {
          "output_type": "execute_result",
          "data": {
            "text/latex": "$\\displaystyle \\frac{d^{2}}{d x^{2}} f{\\left(x \\right)}$",
            "text/plain": [
              "Derivative(f(x), (x, 2))"
            ]
          },
          "metadata": {},
          "execution_count": 4
        }
      ]
    },
    {
      "cell_type": "code",
      "metadata": {
        "colab": {
          "base_uri": "https://localhost:8080/",
          "height": 54
        },
        "id": "ztr-1ZIocPDb",
        "outputId": "a6a626dd-bd00-41fd-b00c-63288193ea83"
      },
      "source": [
        "f.diff(x, 5)"
      ],
      "execution_count": null,
      "outputs": [
        {
          "output_type": "execute_result",
          "data": {
            "text/latex": "$\\displaystyle \\frac{d^{5}}{d x^{5}} f{\\left(x \\right)}$",
            "text/plain": [
              "Derivative(f(x), (x, 5))"
            ]
          },
          "metadata": {},
          "execution_count": 6
        }
      ]
    },
    {
      "cell_type": "code",
      "metadata": {
        "id": "_J5f6glIbBYq",
        "colab": {
          "base_uri": "https://localhost:8080/",
          "height": 52
        },
        "outputId": "0890fad6-e18a-4d52-ea8f-7f7291cc43c9"
      },
      "source": [
        "dfdx = f.diff(x,1)\n",
        "dfdx"
      ],
      "execution_count": null,
      "outputs": [
        {
          "output_type": "execute_result",
          "data": {
            "text/latex": "$\\displaystyle \\frac{d}{d x} f{\\left(x \\right)}$",
            "text/plain": [
              "Derivative(f(x), x)"
            ]
          },
          "metadata": {},
          "execution_count": 8
        }
      ]
    },
    {
      "cell_type": "code",
      "metadata": {
        "id": "SgkW-su6bBmO",
        "colab": {
          "base_uri": "https://localhost:8080/",
          "height": 52
        },
        "outputId": "1689b68d-ecd4-43c5-9d52-314f06d5619c"
      },
      "source": [
        "eq = sym.Eq( dfdx, -alpha*f  )\n",
        "eq"
      ],
      "execution_count": null,
      "outputs": [
        {
          "output_type": "execute_result",
          "data": {
            "text/latex": "$\\displaystyle \\frac{d}{d x} f{\\left(x \\right)} = - \\alpha f{\\left(x \\right)}$",
            "text/plain": [
              "Eq(Derivative(f(x), x), -alpha*f(x))"
            ]
          },
          "metadata": {},
          "execution_count": 10
        }
      ]
    },
    {
      "cell_type": "code",
      "metadata": {
        "id": "kmB1a21xa2Jq",
        "colab": {
          "base_uri": "https://localhost:8080/",
          "height": 38
        },
        "outputId": "c134ed6c-6be3-4de2-f1b5-c18bea565006"
      },
      "source": [
        "solucion_parcial = sym.dsolve(eq)\n",
        "solucion_parcial"
      ],
      "execution_count": null,
      "outputs": [
        {
          "output_type": "execute_result",
          "data": {
            "text/latex": "$\\displaystyle f{\\left(x \\right)} = C_{1} e^{- \\alpha x}$",
            "text/plain": [
              "Eq(f(x), C1*exp(-alpha*x))"
            ]
          },
          "metadata": {},
          "execution_count": 12
        }
      ]
    },
    {
      "cell_type": "code",
      "metadata": {
        "colab": {
          "base_uri": "https://localhost:8080/"
        },
        "id": "WCLep-dZeB0W",
        "outputId": "10f6801f-c251-4b6a-eb3f-7f7b3dd722f9"
      },
      "source": [
        "C1  = sym.solve(  [solucion_parcial.rhs.subs( x,0    ) -1]  )\n",
        "C1"
      ],
      "execution_count": null,
      "outputs": [
        {
          "output_type": "execute_result",
          "data": {
            "text/plain": [
              "{C1: 1}"
            ]
          },
          "metadata": {},
          "execution_count": 13
        }
      ]
    },
    {
      "cell_type": "code",
      "metadata": {
        "colab": {
          "base_uri": "https://localhost:8080/",
          "height": 38
        },
        "id": "a4oRtm_qgssv",
        "outputId": "c99a9e1d-46f8-4d72-cf7d-412ba79d59b6"
      },
      "source": [
        "solucion_total = solucion_parcial.subs(C1)\n",
        "solucion_total"
      ],
      "execution_count": null,
      "outputs": [
        {
          "output_type": "execute_result",
          "data": {
            "text/latex": "$\\displaystyle f{\\left(x \\right)} = e^{- \\alpha x}$",
            "text/plain": [
              "Eq(f(x), exp(-alpha*x))"
            ]
          },
          "metadata": {},
          "execution_count": 14
        }
      ]
    },
    {
      "cell_type": "code",
      "metadata": {
        "id": "gZC9vu9Ng6mU"
      },
      "source": [
        "dfdx2 = f.diff(x,2)\n",
        "dfdx = f.diff(x,1)\n"
      ],
      "execution_count": null,
      "outputs": []
    },
    {
      "cell_type": "code",
      "metadata": {
        "colab": {
          "base_uri": "https://localhost:8080/",
          "height": 56
        },
        "id": "LFkhwQToh3hA",
        "outputId": "d38ba320-9f50-4f82-9c42-6231936643f7"
      },
      "source": [
        "eq = sym.Eq( dfdx2 - (1/alpha)*dfdx, 0  )\n",
        "eq"
      ],
      "execution_count": null,
      "outputs": [
        {
          "output_type": "execute_result",
          "data": {
            "text/latex": "$\\displaystyle \\frac{d^{2}}{d x^{2}} f{\\left(x \\right)} - \\frac{\\frac{d}{d x} f{\\left(x \\right)}}{\\alpha} = 0$",
            "text/plain": [
              "Eq(Derivative(f(x), (x, 2)) - Derivative(f(x), x)/alpha, 0)"
            ]
          },
          "metadata": {},
          "execution_count": 18
        }
      ]
    },
    {
      "cell_type": "code",
      "metadata": {
        "colab": {
          "base_uri": "https://localhost:8080/",
          "height": 38
        },
        "id": "RVa1WUJ1iSTP",
        "outputId": "94ef01e3-0532-4b05-c4e6-23b968ad741c"
      },
      "source": [
        "solucion_parcial = sym.dsolve(eq)\n",
        "solucion_parcial"
      ],
      "execution_count": null,
      "outputs": [
        {
          "output_type": "execute_result",
          "data": {
            "text/latex": "$\\displaystyle f{\\left(x \\right)} = C_{1} + C_{2} e^{\\frac{x}{\\alpha}}$",
            "text/plain": [
              "Eq(f(x), C1 + C2*exp(x/alpha))"
            ]
          },
          "metadata": {},
          "execution_count": 20
        }
      ]
    },
    {
      "cell_type": "code",
      "metadata": {
        "colab": {
          "base_uri": "https://localhost:8080/"
        },
        "id": "FYWkQdDYiiIt",
        "outputId": "67d45321-d809-4a53-833b-17dfe7999dfd"
      },
      "source": [
        "C1_C2 = sym.solve (  [ solucion_parcial.rhs.subs( x, 0  ) -1 ,\n",
        "                      solucion_parcial.rhs.diff(x).subs(x,0)-2   ]    )\n",
        "\n",
        "C1_C2"
      ],
      "execution_count": null,
      "outputs": [
        {
          "output_type": "execute_result",
          "data": {
            "text/plain": [
              "{C1: 1 - 2*alpha, C2: 2*alpha}"
            ]
          },
          "metadata": {},
          "execution_count": 23
        }
      ]
    },
    {
      "cell_type": "code",
      "metadata": {
        "colab": {
          "base_uri": "https://localhost:8080/",
          "height": 38
        },
        "id": "Rp8_E6JQjtu1",
        "outputId": "56838608-64ac-47d1-fac5-1af0b62a1b30"
      },
      "source": [
        "solucion_total = solucion_parcial.subs(C1_C2)\n",
        "solucion_total\n"
      ],
      "execution_count": null,
      "outputs": [
        {
          "output_type": "execute_result",
          "data": {
            "text/latex": "$\\displaystyle f{\\left(x \\right)} = 2 \\alpha e^{\\frac{x}{\\alpha}} - 2 \\alpha + 1$",
            "text/plain": [
              "Eq(f(x), 2*alpha*exp(x/alpha) - 2*alpha + 1)"
            ]
          },
          "metadata": {},
          "execution_count": 24
        }
      ]
    },
    {
      "cell_type": "markdown",
      "metadata": {
        "id": "Vgli_NERk1BP"
      },
      "source": [
        "#Resolver:\n",
        "$\\frac{df^2}{dx^2} = 12x^4$\n",
        "\n",
        "*$f(0) =0 $\n",
        "\n",
        "*$f'(0)=1$\n"
      ]
    },
    {
      "cell_type": "code",
      "metadata": {
        "colab": {
          "base_uri": "https://localhost:8080/",
          "height": 54
        },
        "id": "Mdh2d2eYjvs7",
        "outputId": "ef6b3dd7-e0b9-4dfa-a352-6dfc737d8032"
      },
      "source": [
        "dfdx2 = f.diff(x,2)\n",
        "dfdx2"
      ],
      "execution_count": null,
      "outputs": [
        {
          "output_type": "execute_result",
          "data": {
            "text/latex": "$\\displaystyle \\frac{d^{2}}{d x^{2}} f{\\left(x \\right)}$",
            "text/plain": [
              "Derivative(f(x), (x, 2))"
            ]
          },
          "metadata": {},
          "execution_count": 2
        }
      ]
    },
    {
      "cell_type": "code",
      "metadata": {
        "colab": {
          "base_uri": "https://localhost:8080/",
          "height": 54
        },
        "id": "6_1IPBtJs7Wx",
        "outputId": "6ced6388-6c35-4c04-94f9-35a1f8d48063"
      },
      "source": [
        "eq  = sym.Eq(dfdx2, 12*x**4)\n",
        "eq"
      ],
      "execution_count": null,
      "outputs": [
        {
          "output_type": "execute_result",
          "data": {
            "text/latex": "$\\displaystyle \\frac{d^{2}}{d x^{2}} f{\\left(x \\right)} = 12 x^{4}$",
            "text/plain": [
              "Eq(Derivative(f(x), (x, 2)), 12*x**4)"
            ]
          },
          "metadata": {},
          "execution_count": 3
        }
      ]
    },
    {
      "cell_type": "code",
      "metadata": {
        "colab": {
          "base_uri": "https://localhost:8080/",
          "height": 54
        },
        "id": "noR5hJKetHUG",
        "outputId": "973e7389-c98d-4aba-8da5-c4387b6efb7b"
      },
      "source": [
        "solucion_par = sym.dsolve(eq)\n",
        "solucion_par"
      ],
      "execution_count": null,
      "outputs": [
        {
          "output_type": "execute_result",
          "data": {
            "text/latex": "$\\displaystyle f{\\left(x \\right)} = C_{1} + C_{2} x + \\frac{2 x^{6}}{5}$",
            "text/plain": [
              "Eq(f(x), C1 + C2*x + 2*x**6/5)"
            ]
          },
          "metadata": {},
          "execution_count": 4
        }
      ]
    },
    {
      "cell_type": "code",
      "metadata": {
        "colab": {
          "base_uri": "https://localhost:8080/"
        },
        "id": "4MEYxnHetNch",
        "outputId": "6c168fb1-7f1b-48eb-f381-9693041e9e32"
      },
      "source": [
        "C1_C2 = sym.solve( [ solucion_par.rhs.subs( x ,0 ) -0 ,\n",
        "                   solucion_par.rhs.diff(x).subs(x,0)-1 ]  )\n",
        "C1_C2"
      ],
      "execution_count": null,
      "outputs": [
        {
          "output_type": "execute_result",
          "data": {
            "text/plain": [
              "{C1: 0, C2: 1}"
            ]
          },
          "metadata": {},
          "execution_count": 5
        }
      ]
    },
    {
      "cell_type": "code",
      "metadata": {
        "colab": {
          "base_uri": "https://localhost:8080/",
          "height": 54
        },
        "id": "BXuY-qIItzT2",
        "outputId": "e6dc3b0c-68a2-4571-8fd8-643eba161852"
      },
      "source": [
        "solucion_total = solucion_par.subs(C1_C2)\n",
        "solucion_total"
      ],
      "execution_count": null,
      "outputs": [
        {
          "output_type": "execute_result",
          "data": {
            "text/latex": "$\\displaystyle f{\\left(x \\right)} = \\frac{2 x^{6}}{5} + x$",
            "text/plain": [
              "Eq(f(x), 2*x**6/5 + x)"
            ]
          },
          "metadata": {},
          "execution_count": 6
        }
      ]
    },
    {
      "cell_type": "code",
      "metadata": {
        "id": "ueh6EN_1t6od",
        "colab": {
          "base_uri": "https://localhost:8080/",
          "height": 296
        },
        "outputId": "f78a3df2-02ad-4d42-d21b-3a2e00f58e66"
      },
      "source": [
        "inicio = -10\n",
        "final = 10\n",
        "\n",
        "p = plot(solucion_total.rhs, (x,inicio,final), legend=True,\n",
        "         show = False )\n",
        "\n",
        "p[0].line_color = \"blue\"\n",
        "\n",
        "\n",
        "p.show()\n"
      ],
      "execution_count": null,
      "outputs": [
        {
          "output_type": "display_data",
          "data": {
            "image/png": "[encoded data removed]",
            "text/plain": [
              "<Figure size 432x288 with 1 Axes>"
            ]
          },
          "metadata": {
            "needs_background": "light"
          }
        }
      ]
    },
    {
      "cell_type": "markdown",
      "metadata": {
        "id": "a_h8e2_ybzws"
      },
      "source": [
        "#Integrales"
      ]
    },
    {
      "cell_type": "code",
      "metadata": {
        "colab": {
          "base_uri": "https://localhost:8080/",
          "height": 38
        },
        "id": "3ldMhKoLTJyF",
        "outputId": "422fb7c3-1382-4460-8ca8-03f339a59fef"
      },
      "source": [
        "funcion = sin(x)*cos(x)\n",
        "funcion"
      ],
      "execution_count": null,
      "outputs": [
        {
          "output_type": "execute_result",
          "data": {
            "text/latex": "$\\displaystyle \\sin{\\left(x \\right)} \\cos{\\left(x \\right)}$",
            "text/plain": [
              "sin(x)*cos(x)"
            ]
          },
          "metadata": {},
          "execution_count": 22
        }
      ]
    },
    {
      "cell_type": "code",
      "metadata": {
        "colab": {
          "base_uri": "https://localhost:8080/",
          "height": 51
        },
        "id": "wisBzcHif1I4",
        "outputId": "3765ad00-fc0f-4975-8500-22e1a7009fed"
      },
      "source": [
        "inicio = 0\n",
        "final = pi/2\n",
        "sym.integrate(funcion, (x,inicio,final))"
      ],
      "execution_count": null,
      "outputs": [
        {
          "output_type": "execute_result",
          "data": {
            "text/latex": "$\\displaystyle \\frac{1}{2}$",
            "text/plain": [
              "1/2"
            ]
          },
          "metadata": {},
          "execution_count": 23
        }
      ]
    },
    {
      "cell_type": "code",
      "metadata": {
        "colab": {
          "base_uri": "https://localhost:8080/",
          "height": 37
        },
        "id": "Y_0a6SNVgoeJ",
        "outputId": "c17eb17b-96b9-49cb-d32e-f07fd44bc746"
      },
      "source": [
        "funcion2 = x**2-4*x-1\n",
        "inicio = 2\n",
        "final = 5\n",
        "sym.integrate(funcion2, (x, inicio, final))"
      ],
      "execution_count": null,
      "outputs": [
        {
          "output_type": "execute_result",
          "data": {
            "text/latex": "$\\displaystyle -6$",
            "text/plain": [
              "-6"
            ]
          },
          "metadata": {},
          "execution_count": 24
        }
      ]
    },
    {
      "cell_type": "code",
      "metadata": {
        "colab": {
          "base_uri": "https://localhost:8080/",
          "height": 51
        },
        "id": "yvtvTh0Jg3GT",
        "outputId": "46b61691-37d0-4cfb-be05-a13eb738fcc3"
      },
      "source": [
        "funcion = exp(-x/4)\n",
        "inicio = 0\n",
        "final= 4\n",
        "sym.integrate(funcion, (x,inicio, final))"
      ],
      "execution_count": null,
      "outputs": [
        {
          "output_type": "execute_result",
          "data": {
            "text/latex": "$\\displaystyle 4 - \\frac{4}{e}$",
            "text/plain": [
              "4 - 4*exp(-1)"
            ]
          },
          "metadata": {},
          "execution_count": 25
        }
      ]
    },
    {
      "cell_type": "code",
      "metadata": {
        "id": "3GAzJRRNhjda"
      },
      "source": [
        ""
      ],
      "execution_count": null,
      "outputs": []
    }
  ]
}